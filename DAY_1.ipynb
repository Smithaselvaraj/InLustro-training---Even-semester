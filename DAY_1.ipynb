{
  "nbformat": 4,
  "nbformat_minor": 0,
  "metadata": {
    "colab": {
      "provenance": []
    },
    "kernelspec": {
      "name": "python3",
      "display_name": "Python 3"
    },
    "language_info": {
      "name": "python"
    }
  },
  "cells": [
    {
      "cell_type": "code",
      "execution_count": 1,
      "metadata": {
        "colab": {
          "base_uri": "https://localhost:8080/"
        },
        "id": "EJEAlm4tZxg0",
        "outputId": "6c6f2f49-3501-4a9e-84f7-c53083b00e31"
      },
      "outputs": [
        {
          "output_type": "stream",
          "name": "stdout",
          "text": [
            "YourName\n"
          ]
        }
      ],
      "source": [
        "#1 question\n",
        "name=\"YourName\"\n",
        "print(name)"
      ]
    },
    {
      "cell_type": "code",
      "source": [
        "#2 question\n",
        "a=5\n",
        "b=10\n",
        "print(a+b)"
      ],
      "metadata": {
        "colab": {
          "base_uri": "https://localhost:8080/"
        },
        "id": "ITS08z03dtC_",
        "outputId": "c66448ba-059b-412c-b79f-6aea88dccaba"
      },
      "execution_count": 2,
      "outputs": [
        {
          "output_type": "stream",
          "name": "stdout",
          "text": [
            "15\n"
          ]
        }
      ]
    },
    {
      "cell_type": "code",
      "source": [
        "#3 question\n",
        "price=99.99\n",
        "print(price)"
      ],
      "metadata": {
        "colab": {
          "base_uri": "https://localhost:8080/"
        },
        "id": "MxwHKkWAd_8N",
        "outputId": "1de79f51-b3f5-4c77-be0e-f19e619dcd64"
      },
      "execution_count": 3,
      "outputs": [
        {
          "output_type": "stream",
          "name": "stdout",
          "text": [
            "99.99\n"
          ]
        }
      ]
    },
    {
      "cell_type": "code",
      "source": [
        "#4 question\n",
        "is_valid=True\n",
        "print(is_valid)"
      ],
      "metadata": {
        "colab": {
          "base_uri": "https://localhost:8080/"
        },
        "id": "dG3uhA1UeIeV",
        "outputId": "ab6a514e-b71b-4096-fb71-fa25cc140ac7"
      },
      "execution_count": 4,
      "outputs": [
        {
          "output_type": "stream",
          "name": "stdout",
          "text": [
            "True\n"
          ]
        }
      ]
    },
    {
      "cell_type": "code",
      "source": [
        "#5 question\n",
        "x,y,z=10,20,30\n",
        "print(x,y,z)"
      ],
      "metadata": {
        "colab": {
          "base_uri": "https://localhost:8080/"
        },
        "id": "XH1pkvSVeRp0",
        "outputId": "24ba0ccd-6bc5-42f8-d782-991afa84f0ca"
      },
      "execution_count": 5,
      "outputs": [
        {
          "output_type": "stream",
          "name": "stdout",
          "text": [
            "10 20 30\n"
          ]
        }
      ]
    },
    {
      "cell_type": "code",
      "source": [
        "#6 question\n",
        "p=q=r=100\n",
        "print(p,q,r)"
      ],
      "metadata": {
        "colab": {
          "base_uri": "https://localhost:8080/"
        },
        "id": "bLRdIzp0eYvF",
        "outputId": "5691d161-a5b6-47d8-dece-3b4b971b7367"
      },
      "execution_count": 7,
      "outputs": [
        {
          "output_type": "stream",
          "name": "stdout",
          "text": [
            "100 100 100\n"
          ]
        }
      ]
    },
    {
      "cell_type": "code",
      "source": [
        "#7 question\n",
        "age=25\n",
        "print(age)\n",
        "age=30\n",
        "print(age)"
      ],
      "metadata": {
        "colab": {
          "base_uri": "https://localhost:8080/"
        },
        "id": "LHs9MVpqeeTt",
        "outputId": "2c60e9ac-4c83-4bc4-e451-a5c81e7a1192"
      },
      "execution_count": 6,
      "outputs": [
        {
          "output_type": "stream",
          "name": "stdout",
          "text": [
            "25\n",
            "30\n"
          ]
        }
      ]
    },
    {
      "cell_type": "code",
      "source": [
        "#8 question\n",
        "value=50\n",
        "del value\n",
        "#print(value)#This will cause an error since value is deleted."
      ],
      "metadata": {
        "id": "vKSz78YGeqeF"
      },
      "execution_count": 14,
      "outputs": []
    },
    {
      "cell_type": "code",
      "source": [
        "#9 question\n",
        "message=\"HelloWorld!\"\n",
        "print(len(message))\n"
      ],
      "metadata": {
        "colab": {
          "base_uri": "https://localhost:8080/"
        },
        "id": "aZHTwfVQe8SV",
        "outputId": "72cd9466-150a-444c-efe9-d9d6ebe8af2d"
      },
      "execution_count": 9,
      "outputs": [
        {
          "output_type": "stream",
          "name": "stdout",
          "text": [
            "11\n"
          ]
        }
      ]
    },
    {
      "cell_type": "code",
      "source": [
        "#10 question\n",
        "data=42\n",
        "print(data)\n",
        "data=str(data)\n",
        "print(data)"
      ],
      "metadata": {
        "colab": {
          "base_uri": "https://localhost:8080/"
        },
        "id": "wLvx7NA7fStF",
        "outputId": "b629cf9c-42e7-4557-bbde-08a79f70d82c"
      },
      "execution_count": 11,
      "outputs": [
        {
          "output_type": "stream",
          "name": "stdout",
          "text": [
            "42\n",
            "42\n"
          ]
        }
      ]
    },
    {
      "cell_type": "code",
      "source": [
        "#if\n",
        "#1 question\n",
        "num=5\n",
        "if num>0:\n",
        "  print(\"Positive Number\")"
      ],
      "metadata": {
        "colab": {
          "base_uri": "https://localhost:8080/"
        },
        "id": "Z6BENURQhEwm",
        "outputId": "a4fe1317-1c1c-48d8-fcdb-4b8c0f1dd7b9"
      },
      "execution_count": 15,
      "outputs": [
        {
          "output_type": "stream",
          "name": "stdout",
          "text": [
            "Positive Number\n"
          ]
        }
      ]
    },
    {
      "cell_type": "code",
      "source": [
        "#2 question\n",
        "age=20\n",
        "if age>=18:\n",
        "  print(\"Eligible to vote\")\n",
        "else:\n",
        "  print(\"Not Eligible to vote\")"
      ],
      "metadata": {
        "colab": {
          "base_uri": "https://localhost:8080/"
        },
        "id": "SuIAAmHMkp1z",
        "outputId": "b21c8c48-bd9b-4a29-cd0d-5a9f7096d972"
      },
      "execution_count": 16,
      "outputs": [
        {
          "output_type": "stream",
          "name": "stdout",
          "text": [
            "Eligible to vote\n"
          ]
        }
      ]
    },
    {
      "cell_type": "code",
      "source": [
        "#3 question\n",
        "num=-3\n",
        "if num>0:\n",
        "  print(\"Positive\")\n",
        "elif num<0:\n",
        "  print(\"Negative\")\n",
        "else:\n",
        "    print(\"Zero\")"
      ],
      "metadata": {
        "colab": {
          "base_uri": "https://localhost:8080/"
        },
        "id": "nIEKxH1mlRQz",
        "outputId": "62e29324-2fe2-4e0e-8a72-89cfdfab0e7c"
      },
      "execution_count": 18,
      "outputs": [
        {
          "output_type": "stream",
          "name": "stdout",
          "text": [
            "Negative\n"
          ]
        }
      ]
    },
    {
      "cell_type": "code",
      "source": [
        "#4 question\n",
        "num=7\n",
        "if num%2==0:\n",
        "  print(\"Even\")\n",
        "else:\n",
        "  print(\"odd\")"
      ],
      "metadata": {
        "colab": {
          "base_uri": "https://localhost:8080/"
        },
        "id": "1-AahZrOlycz",
        "outputId": "3bec4f47-abc6-4151-d979-a486901a9a68"
      },
      "execution_count": 20,
      "outputs": [
        {
          "output_type": "stream",
          "name": "stdout",
          "text": [
            "odd\n"
          ]
        }
      ]
    },
    {
      "cell_type": "code",
      "source": [
        "#5 Question\n",
        "num=8\n",
        "if num>0:\n",
        "  if num%2==0:\n",
        "    print(\"Positive and Even\")\n",
        ""
      ],
      "metadata": {
        "colab": {
          "base_uri": "https://localhost:8080/"
        },
        "id": "0RlAqdgvmEoL",
        "outputId": "107bac9f-2c0b-4175-c70a-a4afd99ed3bc"
      },
      "execution_count": 21,
      "outputs": [
        {
          "output_type": "stream",
          "name": "stdout",
          "text": [
            "Positive and Even\n"
          ]
        }
      ]
    },
    {
      "cell_type": "code",
      "source": [
        "#6 question\n",
        "x=10\n",
        "if x==10:\n",
        " print(\"Python is cool\")"
      ],
      "metadata": {
        "colab": {
          "base_uri": "https://localhost:8080/"
        },
        "id": "RRyAZ6LgmZ7r",
        "outputId": "741f9c12-56a0-4960-a06f-312f9e6efcd7"
      },
      "execution_count": 24,
      "outputs": [
        {
          "output_type": "stream",
          "name": "stdout",
          "text": [
            "Python is cool\n"
          ]
        }
      ]
    },
    {
      "cell_type": "code",
      "source": [
        "#7 question\n",
        "num=12\n",
        "print(\"Even\" if num%2==0 else \"odd\")"
      ],
      "metadata": {
        "colab": {
          "base_uri": "https://localhost:8080/"
        },
        "id": "9lpgRU_FmlUT",
        "outputId": "06c13f4d-1e9a-4339-d400-8ca21e11511c"
      },
      "execution_count": 26,
      "outputs": [
        {
          "output_type": "stream",
          "name": "stdout",
          "text": [
            "Even\n"
          ]
        }
      ]
    },
    {
      "cell_type": "code",
      "source": [
        "#8 question\n",
        "text=\"I love Python Programming\"\n",
        "if\"Python\" in text:\n",
        " print(\"String contains 'Python'\")"
      ],
      "metadata": {
        "colab": {
          "base_uri": "https://localhost:8080/"
        },
        "id": "H4frfMROnHBz",
        "outputId": "966a42ff-092d-4249-8e0e-3a15c0212cf8"
      },
      "execution_count": 31,
      "outputs": [
        {
          "output_type": "stream",
          "name": "stdout",
          "text": [
            "String contains 'Python'\n"
          ]
        }
      ]
    },
    {
      "cell_type": "code",
      "source": [
        "#9 question\n",
        "num=15\n",
        "if num%3==0 and num%5==0:\n",
        "  print(\"Divisible by both 3 and 5\")\n",
        "else:\n",
        "  print(\"Not divisible by both 3 and 5\")\n"
      ],
      "metadata": {
        "colab": {
          "base_uri": "https://localhost:8080/"
        },
        "id": "O7C_u8qrnmT7",
        "outputId": "e83c8356-63ca-481b-8a86-b773deb63691"
      },
      "execution_count": 32,
      "outputs": [
        {
          "output_type": "stream",
          "name": "stdout",
          "text": [
            "Divisible by both 3 and 5\n"
          ]
        }
      ]
    },
    {
      "cell_type": "code",
      "source": [
        "#10 question\n",
        "year=2024\n",
        "if(year%4==0 and year%100!=0)or(year%400==0):\n",
        "  print(\"Leap Year\")\n",
        "else:\n",
        "  print(\"Not a Leap Year\")"
      ],
      "metadata": {
        "colab": {
          "base_uri": "https://localhost:8080/"
        },
        "id": "G0bN-2iDotzS",
        "outputId": "3c3f1bce-49bd-41b2-8699-c008d95ae7f7"
      },
      "execution_count": 33,
      "outputs": [
        {
          "output_type": "stream",
          "name": "stdout",
          "text": [
            "Leap Year\n"
          ]
        }
      ]
    }
  ]
}