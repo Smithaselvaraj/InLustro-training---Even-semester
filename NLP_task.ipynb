{
  "nbformat": 4,
  "nbformat_minor": 0,
  "metadata": {
    "colab": {
      "provenance": [],
      "authorship_tag": "ABX9TyP0adtAOgN9DRmsQOjSHGV6",
      "include_colab_link": true
    },
    "kernelspec": {
      "name": "python3",
      "display_name": "Python 3"
    },
    "language_info": {
      "name": "python"
    }
  },
  "cells": [
    {
      "cell_type": "markdown",
      "metadata": {
        "id": "view-in-github",
        "colab_type": "text"
      },
      "source": [
        "<a href=\"https://colab.research.google.com/github/Smithaselvaraj/InLustro-training---Even-semester/blob/main/NLP_task.ipynb\" target=\"_parent\"><img src=\"https://colab.research.google.com/assets/colab-badge.svg\" alt=\"Open In Colab\"/></a>"
      ]
    },
    {
      "cell_type": "code",
      "execution_count": null,
      "metadata": {
        "colab": {
          "base_uri": "https://localhost:8080/"
        },
        "id": "jHxRZHNix-GK",
        "outputId": "a5b1bd55-6dcd-46ef-b7c2-4bdc90310bfa"
      },
      "outputs": [
        {
          "output_type": "stream",
          "name": "stderr",
          "text": [
            "[nltk_data] Downloading package punkt to /root/nltk_data...\n",
            "[nltk_data]   Unzipping tokenizers/punkt.zip.\n",
            "[nltk_data] Downloading package punkt_tab to /root/nltk_data...\n",
            "[nltk_data]   Unzipping tokenizers/punkt_tab.zip.\n",
            "[nltk_data] Downloading package wordnet to /root/nltk_data...\n",
            "[nltk_data] Downloading package omw-1.4 to /root/nltk_data...\n",
            "[nltk_data] Downloading package stopwords to /root/nltk_data...\n",
            "[nltk_data]   Unzipping corpora/stopwords.zip.\n"
          ]
        },
        {
          "output_type": "execute_result",
          "data": {
            "text/plain": [
              "True"
            ]
          },
          "metadata": {},
          "execution_count": 2
        }
      ],
      "source": [
        "import nltk\n",
        "\n",
        "from nltk.tokenize import word_tokenize\n",
        "\n",
        "from nltk.stem import PorterStemmer, LancasterStemmer, SnowballStemmer\n",
        "\n",
        "from nltk.stem import WordNetLemmatizer\n",
        "\n",
        "from nltk.corpus import wordnet\n",
        "\n",
        "from nltk.corpus import stopwords\n",
        "\n",
        "nltk.download('punkt')\n",
        "\n",
        "# Download tokenizer\n",
        "\n",
        "nltk.download('punkt_tab')\n",
        "\n",
        "#Download WordNet for Lemmati\n",
        "\n",
        "nltk.download('wordnet')\n",
        "\n",
        "nltk.download('omw-1.4')\n",
        "\n",
        "#WordNet dependency\n",
        "\n",
        "nltk.download('stopwords')"
      ]
    },
    {
      "cell_type": "code",
      "source": [
        "text=\" I absolutely love this movie! The acting was fantastic,and the storyline was engaging\"\n",
        "tokens=word_tokenize(text)\n",
        "print(\"Original Tokens:\",tokens)"
      ],
      "metadata": {
        "colab": {
          "base_uri": "https://localhost:8080/"
        },
        "id": "vZInUDgpyrj6",
        "outputId": "292a24cd-0d73-4d74-a72b-d33e211b43e3"
      },
      "execution_count": null,
      "outputs": [
        {
          "output_type": "stream",
          "name": "stdout",
          "text": [
            "Original Tokens: ['I', 'absolutely', 'love', 'this', 'movie', '!', 'The', 'acting', 'was', 'fantastic', ',', 'and', 'the', 'storyline', 'was', 'engaging']\n"
          ]
        }
      ]
    },
    {
      "cell_type": "code",
      "source": [
        "porter=PorterStemmer()\n",
        "stemmed_words=[porter.stem(word)for word in tokens]\n",
        "print(\"Porter Stemmer:\",stemmed_words)"
      ],
      "metadata": {
        "colab": {
          "base_uri": "https://localhost:8080/"
        },
        "id": "NA4GSmgwzomE",
        "outputId": "79884b73-d08b-4fc2-e4d9-0119bd4c5673"
      },
      "execution_count": null,
      "outputs": [
        {
          "output_type": "stream",
          "name": "stdout",
          "text": [
            "Porter Stemmer: ['i', 'absolut', 'love', 'thi', 'movi', '!', 'the', 'act', 'wa', 'fantast', ',', 'and', 'the', 'storylin', 'wa', 'engag']\n"
          ]
        }
      ]
    },
    {
      "cell_type": "code",
      "source": [
        "lemmatizer=WordNetLemmatizer()\n",
        "lemmatized_words=[lemmatizer.lemmatize(word) for word in tokens]\n",
        "print(\"Lemmatized words:\", lemmatized_words)"
      ],
      "metadata": {
        "colab": {
          "base_uri": "https://localhost:8080/"
        },
        "id": "0Z1aCbCY0Veg",
        "outputId": "2d9b54b7-ee2a-4409-e0d5-29161f30ed2a"
      },
      "execution_count": null,
      "outputs": [
        {
          "output_type": "stream",
          "name": "stdout",
          "text": [
            "Lemmatized words: ['I', 'absolutely', 'love', 'this', 'movie', '!', 'The', 'acting', 'wa', 'fantastic', ',', 'and', 'the', 'storyline', 'wa', 'engaging']\n"
          ]
        }
      ]
    },
    {
      "cell_type": "code",
      "source": [
        "tokens=[word.upper() for word in tokens]\n",
        "print(\"Uppercased tokens:\",tokens)"
      ],
      "metadata": {
        "colab": {
          "base_uri": "https://localhost:8080/"
        },
        "id": "Uj3sH0NF1Kz4",
        "outputId": "fa2ca3e8-690c-4e08-f8f2-13e7b8054c98"
      },
      "execution_count": null,
      "outputs": [
        {
          "output_type": "stream",
          "name": "stdout",
          "text": [
            "Uppercased tokens: ['I', 'ABSOLUTELY', 'LOVE', 'THIS', 'MOVIE', '!', 'THE', 'ACTING', 'WAS', 'FANTASTIC', ',', 'AND', 'THE', 'STORYLINE', 'WAS', 'ENGAGING']\n"
          ]
        }
      ]
    },
    {
      "cell_type": "code",
      "source": [
        "default_stopwords=set(stopwords.words('english'))\n",
        "default_filtered_tokens=[word for word in tokens if word not in default_stopwords]\n",
        "print(\" Tokens after removing default stopwords:\",default_filtered_tokens)"
      ],
      "metadata": {
        "id": "N5F7XmPK1iMF",
        "colab": {
          "base_uri": "https://localhost:8080/"
        },
        "outputId": "5bbe958a-eaa5-4b8c-a892-465977a6d054"
      },
      "execution_count": null,
      "outputs": [
        {
          "output_type": "stream",
          "name": "stdout",
          "text": [
            " Tokens after removing default stopwords: ['I', 'ABSOLUTELY', 'LOVE', 'THIS', 'MOVIE', '!', 'THE', 'ACTING', 'WAS', 'FANTASTIC', ',', 'AND', 'THE', 'STORYLINE', 'WAS', 'ENGAGING']\n"
          ]
        }
      ]
    },
    {
      "cell_type": "code",
      "source": [
        "custom_stopwords={\"love\",\"acting\",\"!\"}\n",
        "custom_filtered_tokens=[word for word in default_filtered_tokens if word not in custom_stopwords]\n",
        "print(\"Tokens after removing custom stopwords:\",custom_filtered_tokens)"
      ],
      "metadata": {
        "colab": {
          "base_uri": "https://localhost:8080/"
        },
        "id": "v2V0G1WyHwwl",
        "outputId": "3f1d86b0-b6e9-4e50-f4b4-12003135bd66"
      },
      "execution_count": null,
      "outputs": [
        {
          "output_type": "stream",
          "name": "stdout",
          "text": [
            "Tokens after removing custom stopwords: ['I', 'ABSOLUTELY', 'LOVE', 'THIS', 'MOVIE', 'THE', 'ACTING', 'WAS', 'FANTASTIC', ',', 'AND', 'THE', 'STORYLINE', 'WAS', 'ENGAGING']\n"
          ]
        }
      ]
    },
    {
      "cell_type": "code",
      "source": [
        "from nltk import pos_tag\n",
        "nltk.download('averaged_perceptron_tagger_eng')\n",
        "pos_tags=pos_tag(custom_filtered_tokens)\n",
        "print(\"POS Tags:\",pos_tags)"
      ],
      "metadata": {
        "colab": {
          "base_uri": "https://localhost:8080/"
        },
        "id": "rsi-VtboNHzU",
        "outputId": "f9225bdf-bb43-47c2-a9e5-fd3bcc048de1"
      },
      "execution_count": 22,
      "outputs": [
        {
          "output_type": "stream",
          "name": "stdout",
          "text": [
            "POS Tags: [('I', 'PRP'), ('ABSOLUTELY', 'VBP'), ('LOVE', 'VB'), ('THIS', 'NNP'), ('MOVIE', 'NNP'), ('THE', 'NNP'), ('ACTING', 'NNP'), ('WAS', 'NNP'), ('FANTASTIC', 'NNP'), (',', ','), ('AND', 'NNP'), ('THE', 'NNP'), ('STORYLINE', 'NNP'), ('WAS', 'NNP'), ('ENGAGING', 'NN')]\n"
          ]
        },
        {
          "output_type": "stream",
          "name": "stderr",
          "text": [
            "[nltk_data] Downloading package averaged_perceptron_tagger_eng to\n",
            "[nltk_data]     /root/nltk_data...\n",
            "[nltk_data]   Package averaged_perceptron_tagger_eng is already up-to-\n",
            "[nltk_data]       date!\n"
          ]
        }
      ]
    }
  ]
}